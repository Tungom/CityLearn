{
 "cells": [
  {
   "cell_type": "markdown",
   "metadata": {},
   "source": [
    "# 24HourControl - Search\n",
    "\n",
    "```\n",
    "Author: Chia E Tungom\n",
    "Email: bamtungom@protonmail.com\n",
    "Date: Aug-02-2022\n",
    "```\n",
    "\n",
    "This Notebook demonstrates an approach using an optimization algorithm to find charging and discharge rates at different times of day. This approach can serve as a baseline  for people aiming for a baseline optimization method\n",
    "\n",
    "__Lets Goooooo!!!__"
   ]
  },
  {
   "cell_type": "code",
   "execution_count": 52,
   "metadata": {},
   "outputs": [],
   "source": [
    "import numpy as np\n",
    "import time\n",
    "\n",
    "from agents.orderenforcingwrapper import OrderEnforcingAgent\n",
    "from citylearn.citylearn import CityLearnEnv\n",
    "\n",
    "from citylearn.agents.sac import SAC\n",
    "from agents import rbc_agent "
   ]
  },
  {
   "cell_type": "code",
   "execution_count": 55,
   "metadata": {},
   "outputs": [],
   "source": [
    "# Custom configure enviroment \n",
    "class Constants:\n",
    "    episodes = 3\n",
    "    schema_path = './data/citylearn_challenge_2022_phase_1/schema.json'\n",
    "\n",
    "def action_space_to_dict(aspace):\n",
    "    \"\"\" Only for box space \"\"\"\n",
    "    return { \"high\": aspace.high,\n",
    "             \"low\": aspace.low,\n",
    "             \"shape\": aspace.shape,\n",
    "             \"dtype\": str(aspace.dtype)\n",
    "    }\n",
    "\n",
    "def env_reset(env):\n",
    "    observations = env.reset()\n",
    "    action_space = env.action_space\n",
    "    observation_space = env.observation_space\n",
    "    building_info = env.get_building_information()\n",
    "    building_info = list(building_info.values())\n",
    "    action_space_dicts = [action_space_to_dict(asp) for asp in action_space]\n",
    "    observation_space_dicts = [action_space_to_dict(osp) for osp in observation_space]\n",
    "    obs_dict = {\"action_space\": action_space_dicts,\n",
    "                \"observation_space\": observation_space_dicts,\n",
    "                \"building_info\": building_info,\n",
    "                \"observation\": observations }\n",
    "    return obs_dict\n"
   ]
  },
  {
   "cell_type": "code",
   "execution_count": 56,
   "metadata": {},
   "outputs": [],
   "source": [
    "# Understand CityLearn Environment\n",
    "\n",
    "env = CityLearnEnv(schema=Constants.schema_path)\n"
   ]
  },
  {
   "cell_type": "code",
   "execution_count": 57,
   "metadata": {},
   "outputs": [
    {
     "name": "stdout",
     "output_type": "stream",
     "text": [
      " SAMPLE OBSERVATION SPACE for Builiding ONE >>> (28, array([ 2.7672098e+00,  2.9527459e+00,  5.6035581e+00,  2.4802635e+01,\n",
      "        1.0635974e+01,  3.2097355e+01,  2.4993612e+01,  3.5267548e+01,\n",
      "        5.3173855e+01,  7.9673180e+01,  2.0346434e+01,  2.9565106e+02,\n",
      "        9.0193048e+02,  7.8736237e+02,  8.1491315e+02,  4.7441638e+02,\n",
      "        2.8167239e+02,  8.9806024e+02,  1.8029411e+01,  8.4368956e-01,\n",
      "        3.3177731e+00,  2.2103801e+02, -4.5062798e-01,  6.0250189e+02,\n",
      "        5.5268914e-01, -5.4240066e-01, -1.2251962e-01,  1.7988759e-01],\n",
      "      dtype=float32))\n"
     ]
    }
   ],
   "source": [
    "print(f' SAMPLE OBSERVATION SPACE for Builiding ONE >>> {len(env.observation_space[1].sample()), env.observation_space[1].sample()}')\n"
   ]
  },
  {
   "cell_type": "code",
   "execution_count": 22,
   "metadata": {},
   "outputs": [
    {
     "name": "stdout",
     "output_type": "stream",
     "text": [
      " ACTION SPACES [Box(-1.0, 1.0, (1,), float32), Box(-1.0, 1.0, (1,), float32), Box(-1.0, 1.0, (1,), float32), Box(-1.0, 1.0, (1,), float32), Box(-1.0, 1.0, (1,), float32)]\n",
      " ACTION SPACE for Builiding ONE is Box(-1.0, 1.0, (1,), float32)\n"
     ]
    },
    {
     "data": {
      "text/plain": [
       "array([-0.9365141], dtype=float32)"
      ]
     },
     "execution_count": 22,
     "metadata": {},
     "output_type": "execute_result"
    }
   ],
   "source": [
    "# There is an action space for every building\n",
    "print(f' ACTION SPACES {env.action_space}')\n",
    "print(f' ACTION SPACE for Builiding ONE is {env.action_space[0]}')\n",
    "env.action_space[1].sample()"
   ]
  },
  {
   "cell_type": "code",
   "execution_count": 5,
   "metadata": {},
   "outputs": [
    {
     "name": "stdout",
     "output_type": "stream",
     "text": [
      " WE are about to take [[-0.7205039115341179], [0.8819219154492608], [-0.389261726225836], [0.28232264635684], [-0.02059581174888092]] \n",
      "\n",
      " NEXT STATE \n",
      " [[8, 1, 1, 20.1, 19.4, 22.8, 19.4, 79.0, 79.0, 71.0, 87.0, 0.0, 201.0, 966.0, 0.0, 0.0, 444.0, 747.0, 0.0, 0.1573190581037597, 0.8511666666666671, 0.0, 0.0, 0.8511666666666671, 0.22, 0.22, 0.22, 0.22], [8, 1, 1, 20.1, 19.4, 22.8, 19.4, 79.0, 79.0, 71.0, 87.0, 0.0, 201.0, 966.0, 0.0, 0.0, 444.0, 747.0, 0.0, 0.1573190581037597, 1.3706666666666665, 0.0, 0.7501442104720216, 6.577998730913388, 0.22, 0.22, 0.22, 0.22], [8, 1, 1, 20.1, 19.4, 22.8, 19.4, 79.0, 79.0, 71.0, 87.0, 0.0, 201.0, 966.0, 0.0, 0.0, 444.0, 747.0, 0.0, 0.1573190581037597, 1.0185241699218762e-07, 0.0, 0.0, 1.0185241699218762e-07, 0.22, 0.22, 0.22, 0.22], [8, 1, 1, 20.1, 19.4, 22.8, 19.4, 79.0, 79.0, 71.0, 87.0, 0.0, 201.0, 966.0, 0.0, 0.0, 444.0, 747.0, 0.0, 0.1573190581037597, 1.9281666666666664, 0.0, 0.2703405413145873, 3.8151159494245843, 0.22, 0.22, 0.22, 0.22], [8, 1, 1, 20.1, 19.4, 22.8, 19.4, 79.0, 79.0, 71.0, 87.0, 0.0, 201.0, 966.0, 0.0, 0.0, 444.0, 747.0, 0.0, 0.1573190581037597, 0.5158833333333334, 0.0, 0.0, 0.5158833333333334, 0.22, 0.22, 0.22, 0.22]] \n",
      "\n",
      " REWARDS [-3.21161405e-01 -2.48200429e+00 -3.84308580e-08 -1.43951596e+00\n",
      " -1.94652613e-01] \n",
      "\n",
      " TERMINAL OR NOT >> False \n",
      "\n",
      " INFO {}\n"
     ]
    }
   ],
   "source": [
    "import random\n",
    "Actions = [([random.uniform(-1,1)]) for _ in range(5)]\n",
    "print(f' WE are about to take {Actions} \\n')\n",
    "next_state, reward, terminal, info = env.step(Actions)\n",
    "\n",
    "print(f' NEXT STATE \\n {next_state} \\n')\n",
    "print(f' REWARDS {reward} \\n')\n",
    "print(f' TERMINAL OR NOT >> {terminal} \\n')\n",
    "print(f' INFO {info}')\n",
    "\n",
    "# env.reset()"
   ]
  },
  {
   "cell_type": "code",
   "execution_count": 24,
   "metadata": {},
   "outputs": [
    {
     "data": {
      "text/plain": [
       "(1.634010756243016, 1.6015527674190213)"
      ]
     },
     "execution_count": 24,
     "metadata": {},
     "output_type": "execute_result"
    }
   ],
   "source": [
    "\n",
    "env.evaluate()"
   ]
  },
  {
   "cell_type": "markdown",
   "metadata": {},
   "source": [
    "# 1. Define Objective Function [for Energy Tuning 24 Hours]\n",
    "\n",
    "Here we define a 24 hour action taker"
   ]
  },
  {
   "cell_type": "code",
   "execution_count": 61,
   "metadata": {},
   "outputs": [],
   "source": [
    "def TakeAction24(Observation, Actions24):\n",
    "    \"\"\" takes an observation and Actions for 24 hours and returns \n",
    "    an action for the given hour\n",
    "    ======================\n",
    "    Parameters\n",
    "        Observation: observation for one building\n",
    "        Actions: 1d numpy array of size 24\n",
    "        \n",
    "    \"\"\"\n",
    "    hour = Observation[2] # Hour index is 2 for all observations\n",
    "\n",
    "    action = 0.0 # Default value\n",
    "    # for time, act in enumerate(range(actions)):\n",
    "\n",
    "    #     # time plus one because hour starts from 0\n",
    "    #     if hour == time + 1:\n",
    "    action = Actions24[hour-1]\n",
    "    \n",
    "    action = np.array([action], dtype=float)\n",
    "\n",
    "    return action"
   ]
  },
  {
   "cell_type": "code",
   "execution_count": 68,
   "metadata": {},
   "outputs": [
    {
     "data": {
      "text/plain": [
       "2.312796423396386"
      ]
     },
     "execution_count": 68,
     "metadata": {},
     "output_type": "execute_result"
    }
   ],
   "source": [
    "def objFunction(Actions24, Env, Episodes = 1, Days  =  30):\n",
    "    \"\"\" takes a 24 hour action array and returns it's evaluation performance \n",
    "    ======================\n",
    "    Parameters\n",
    "        Action24: 1d numpy array of size 24\n",
    "        Env:  CitiLearn Environment \n",
    "        \n",
    "        \"\"\"\n",
    "\n",
    "    episodes = Episodes\n",
    "    # Skipping to shorten training time\n",
    "    training_steps = 24*Days\n",
    "\n",
    "    for episode in range(1, episodes+1):\n",
    "        states = Env.reset()\n",
    "        # states = env_reset(Env)\n",
    "        done = False\n",
    "        score = 0\n",
    "        moves = 0\n",
    "    \n",
    "        skipping = True\n",
    "        # print(\" BAck In the Loop\")\n",
    "\n",
    "        while (not done) and skipping:\n",
    "            #env.render()\n",
    "            # Take an action based on Observation\n",
    "            action = [TakeAction24(Observation, Actions24) for Observation in states]\n",
    "            \n",
    "            states, reward, done, info = env.step(action)\n",
    "            score+=reward\n",
    "            moves += 1\n",
    "            # print(done, skipping)\n",
    "            if moves >= training_steps:\n",
    "                # print(\" TERMINATING AT SET STEP \", episode)\n",
    "                skipping = False\n",
    "\n",
    "        # print('Episode:{} Score:{} Out of:{}'.format(episode, score, moves))\n",
    "        # print('Episode:{} Evaluation:{}'.format(episode, env.evaluate()))\n",
    "        # env.close()\n",
    "\n",
    "    return sum(env.evaluate())/2\n",
    "\n",
    "Acts24 = [random.uniform(-1,1) for _ in range(24)]\n",
    "env.reset\n",
    "objFunction(Acts24, env)"
   ]
  },
  {
   "cell_type": "code",
   "execution_count": 69,
   "metadata": {},
   "outputs": [],
   "source": [
    "from pymoo.algorithms.moo.nsga2 import NSGA2\n",
    "from pymoo.problems import get_problem\n",
    "from pymoo.optimize import minimize\n",
    "from pymoo.visualization.scatter import Scatter\n",
    "\n",
    "problem = get_problem(\"zdt1\")\n"
   ]
  },
  {
   "cell_type": "raw",
   "metadata": {},
   "source": [
    "\n",
    "algorithm = NSGA2(pop_size=100)\n",
    "algorithm"
   ]
  },
  {
   "cell_type": "raw",
   "metadata": {},
   "source": [
    "\n",
    "res = minimize(problem,\n",
    "               algorithm,\n",
    "               ('n_gen', 200),\n",
    "               seed=1,\n",
    "               verbose=True)\n",
    "\n",
    "plot = Scatter()\n",
    "plot.add(problem.pareto_front(), plot_type=\"line\", color=\"black\", alpha=0.7)\n",
    "plot.add(res.F, color=\"red\")\n",
    "plot.show()"
   ]
  },
  {
   "cell_type": "code",
   "execution_count": 71,
   "metadata": {},
   "outputs": [
    {
     "data": {
      "text/plain": [
       "<__main__.ProBlem at 0x7fa1a0cd1fd0>"
      ]
     },
     "execution_count": 71,
     "metadata": {},
     "output_type": "execute_result"
    }
   ],
   "source": [
    "import numpy as np\n",
    "from pymoo.core.problem import Problem\n",
    "\n",
    "\n",
    "class ProBlem(Problem):\n",
    "\n",
    "    def __init__(self, Env, Episodes = 1, Days = 10):\n",
    "        # self.Actions24 = Actions24\n",
    "        self.Env = Env\n",
    "        self.Episodes = Episodes\n",
    "        self.Days = Days\n",
    "\n",
    "        super().__init__(n_var=24, n_obj=1, n_ieq_constr=0, xl=-1.0, xu=1.0)\n",
    "\n",
    "    def _evaluate(self, x, out, *args, **kwargs):\n",
    "        # print(x[0])\n",
    "        # print(len(x))\n",
    "        out[\"F\"] = [objFunction(x[i], self.Env, self.Episodes, self.Days) for i in range(len(x))]\n",
    "        # out[\"G\"] = 0.1 - out[\"F\"]\n",
    "\n",
    "problem  = ProBlem(env, Days=5)\n",
    "\n",
    "problem\n",
    "# problem??"
   ]
  },
  {
   "cell_type": "code",
   "execution_count": 72,
   "metadata": {},
   "outputs": [
    {
     "name": "stdout",
     "output_type": "stream",
     "text": [
      "Threads: 1087.0230557918549\n"
     ]
    }
   ],
   "source": [
    "from pymoo.algorithms.soo.nonconvex.ga import GA\n",
    "from pymoo.optimize import minimize\n",
    "algorithm = NSGA2(pop_size=10)\n",
    "\n",
    "GA()\n",
    "\n",
    "res = minimize(problem, GA(verbose=True), termination=(\"n_gen\", 20), seed=1, verbose =  True)\n",
    "print('Threads:', res.exec_time)"
   ]
  },
  {
   "cell_type": "code",
   "execution_count": 73,
   "metadata": {},
   "outputs": [
    {
     "data": {
      "text/plain": [
       "<pymoo.visualization.scatter.Scatter at 0x7fa191b2f290>"
      ]
     },
     "execution_count": 73,
     "metadata": {},
     "output_type": "execute_result"
    },
    {
     "data": {
      "image/png": "[encoded data removed]",
      "text/plain": [
       "<Figure size 576x432 with 1 Axes>"
      ]
     },
     "metadata": {
      "needs_background": "light"
     },
     "output_type": "display_data"
    }
   ],
   "source": [
    "plot = Scatter()\n",
    "plot.add(problem.pareto_front(), plot_type=\"line\", color=\"black\", alpha=0.7)\n",
    "plot.add(res.F, color=\"red\")\n",
    "plot.show()"
   ]
  },
  {
   "cell_type": "code",
   "execution_count": 79,
   "metadata": {},
   "outputs": [
    {
     "data": {
      "text/plain": [
       "array([0.95049758])"
      ]
     },
     "execution_count": 79,
     "metadata": {},
     "output_type": "execute_result"
    }
   ],
   "source": [
    "res.F"
   ]
  }
 ],
 "metadata": {
  "interpreter": {
   "hash": "d829c68d7c130ab0dcf1144f823ff07efab4cc3ddb4fbbf92cf6d88500101820"
  },
  "kernelspec": {
   "display_name": "Python 3.7.13 ('CityLearn')",
   "language": "python",
   "name": "python3"
  },
  "language_info": {
   "codemirror_mode": {
    "name": "ipython",
    "version": 3
   },
   "file_extension": ".py",
   "mimetype": "text/x-python",
   "name": "python",
   "nbconvert_exporter": "python",
   "pygments_lexer": "ipython3",
   "version": "3.7.13"
  }
 },
 "nbformat": 4,
 "nbformat_minor": 2
}
